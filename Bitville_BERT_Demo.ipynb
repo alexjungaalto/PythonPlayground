{
 "cells": [
  {
   "cell_type": "code",
   "execution_count": null,
   "metadata": {},
   "outputs": [],
   "source": [
    "%%capture\n",
    "# Import torch regexp and pretrained bert model and bert tokenizer\n",
    "import torch\n",
    "import torchvision\n",
    "from pytorch_pretrained_bert import BertTokenizer, BertForMaskedLM;\n",
    "import re"
   ]
  },
  {
   "cell_type": "code",
   "execution_count": null,
   "metadata": {},
   "outputs": [],
   "source": [
    "# Load model\n",
    "tokenizer = BertTokenizer.from_pretrained('bert-large-cased')\n",
    "model = BertForMaskedLM.from_pretrained('bert-large-cased')\n",
    "model.eval()\n",
    "print(\"Model loading finished\")"
   ]
  },
  {
   "cell_type": "code",
   "execution_count": null,
   "metadata": {},
   "outputs": [],
   "source": [
    "def bertPredictMaskedWord(text):\n",
    "    \"\"\"\n",
    "        Predict mask using bert from text input. \n",
    "        Use '[MASK]' token to set mask in sentence. \n",
    "        You can use two sentences if you want to precondition the model.\n",
    "        More than two \n",
    "    \"\"\"\n",
    "    # Use regular expression to format input sentences\n",
    "    sentences = re.split(r'(?<!\\w\\.\\w.)(?<![A-Z][a-z]\\.)(?<=\\.|\\?)\\s', text)\n",
    "    sentences[0] = '[CLS] ' + sentences[0]\n",
    "    segments_ids = []\n",
    "    # Tokenize sentences\n",
    "    for i in range(len(sentences)):\n",
    "        sentences[i] = (sentences[i] + ' [SEP]').replace('.', ' .')\n",
    "        for s in sentences[i].split(' '):\n",
    "            segments_ids.append(i)  \n",
    "    sentencesText = ' '.join(sentences)\n",
    "    tokenized_text = tokenizer.tokenize(sentencesText)\n",
    "    # Convert token to vocabulary indices\n",
    "    indexed_tokens = tokenizer.convert_tokens_to_ids(tokenized_text)\n",
    "    masked_index = tokenized_text.index('[MASK]')\n",
    "    # Define which word belongs to what sentence\n",
    "    tokens_tensor = torch.tensor([indexed_tokens])\n",
    "    segments_tensors = torch.tensor([segments_ids])\n",
    "    # Run prediction\n",
    "    with torch.no_grad():\n",
    "        predictions = model(tokens_tensor, segments_tensors)\n",
    "    # Take argmax and convert to token\n",
    "    predicted_index = torch.argmax(predictions[0, masked_index]).item()\n",
    "    predicted_token = tokenizer.convert_ids_to_tokens([predicted_index])[0]\n",
    "    return predicted_token"
   ]
  },
  {
   "cell_type": "code",
   "execution_count": null,
   "metadata": {},
   "outputs": [],
   "source": [
    "# Let's now test the model. \n",
    "# BERT is trained to take either one (sentence A) or two (A, B) sentences as input. \n",
    "# See paper for more details: https://arxiv.org/abs/1810.04805\n",
    "text = \"This is a machine learning demo. This is how machines [MASK].\"\n",
    "maskedWord = bertPredictMaskedWord(text)\n",
    "print(maskedWord)"
   ]
  },
  {
   "cell_type": "code",
   "execution_count": null,
   "metadata": {},
   "outputs": [],
   "source": [
    "text = \"I like cooking. My favourite dish is [MASK].\"\n",
    "maskedWord = bertPredictMaskedWord(text)\n",
    "print(maskedWord)"
   ]
  },
  {
   "cell_type": "code",
   "execution_count": null,
   "metadata": {},
   "outputs": [],
   "source": []
  }
 ],
 "metadata": {
  "kernelspec": {
   "display_name": "Python 3",
   "language": "python",
   "name": "python3"
  },
  "language_info": {
   "codemirror_mode": {
    "name": "ipython",
    "version": 3
   },
   "file_extension": ".py",
   "mimetype": "text/x-python",
   "name": "python",
   "nbconvert_exporter": "python",
   "pygments_lexer": "ipython3",
   "version": "3.6.3"
  }
 },
 "nbformat": 4,
 "nbformat_minor": 2
}
