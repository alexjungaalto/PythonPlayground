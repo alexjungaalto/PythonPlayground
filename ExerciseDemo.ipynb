{
 "cells": [
  {
   "cell_type": "markdown",
   "metadata": {},
   "source": [
    "Import some Python libraries for data management and plotting. Load some historic weather recodings.  \n"
   ]
  },
  {
   "cell_type": "code",
   "execution_count": 1,
   "metadata": {
    "nbgrader": {
     "grade": true,
     "grade_id": "cell-b41dbb88d89db329",
     "locked": true,
     "points": 0,
     "schema_version": 2,
     "solution": false
    }
   },
   "outputs": [
    {
     "name": "stderr",
     "output_type": "stream",
     "text": [
      "/anaconda3/lib/python3.6/site-packages/theano/configdefaults.py:560: UserWarning: DeprecationWarning: there is no c++ compiler.This is deprecated and with Theano 0.11 a c++ compiler will be mandatory\n",
      "  warnings.warn(\"DeprecationWarning: there is no c++ compiler.\"\n",
      "WARNING (theano.configdefaults): g++ not detected ! Theano will be unable to execute optimized C-implementations (for both CPU and GPU) and will default to Python implementations. Performance will be severely degraded. To remove this warning, set Theano flags cxx to an empty string.\n",
      "WARNING (theano.tensor.blas): Using NumPy C-API based implementation for BLAS functions.\n",
      "/anaconda3/lib/python3.6/site-packages/h5py/__init__.py:36: FutureWarning: Conversion of the second argument of issubdtype from `float` to `np.floating` is deprecated. In future, it will be treated as `np.float64 == np.dtype(float).type`.\n",
      "  from ._conv import register_converters as _register_converters\n"
     ]
    },
    {
     "data": {
      "text/html": [
       "<table border=\"1\" class=\"dataframe\">\n",
       "  <thead>\n",
       "    <tr style=\"text-align: right;\">\n",
       "      <th></th>\n",
       "      <th>Year</th>\n",
       "      <th>m</th>\n",
       "      <th>d</th>\n",
       "      <th>Time</th>\n",
       "      <th>Prec</th>\n",
       "      <th>snow</th>\n",
       "      <th>tmp</th>\n",
       "      <th>maxtemp</th>\n",
       "      <th>mintmp</th>\n",
       "    </tr>\n",
       "  </thead>\n",
       "  <tbody>\n",
       "    <tr>\n",
       "      <th>0</th>\n",
       "      <td>2016</td>\n",
       "      <td>1</td>\n",
       "      <td>2</td>\n",
       "      <td>00:00</td>\n",
       "      <td>-1.0</td>\n",
       "      <td>-1.0</td>\n",
       "      <td>-7.0</td>\n",
       "      <td>-5.5</td>\n",
       "      <td>-7.8</td>\n",
       "    </tr>\n",
       "    <tr>\n",
       "      <th>1</th>\n",
       "      <td>2016</td>\n",
       "      <td>1</td>\n",
       "      <td>3</td>\n",
       "      <td>00:00</td>\n",
       "      <td>3.2</td>\n",
       "      <td>-1.0</td>\n",
       "      <td>-8.7</td>\n",
       "      <td>-7.2</td>\n",
       "      <td>-10.0</td>\n",
       "    </tr>\n",
       "    <tr>\n",
       "      <th>2</th>\n",
       "      <td>2016</td>\n",
       "      <td>1</td>\n",
       "      <td>4</td>\n",
       "      <td>00:00</td>\n",
       "      <td>-1.0</td>\n",
       "      <td>4.0</td>\n",
       "      <td>-11.2</td>\n",
       "      <td>-4.9</td>\n",
       "      <td>-13.5</td>\n",
       "    </tr>\n",
       "    <tr>\n",
       "      <th>3</th>\n",
       "      <td>2016</td>\n",
       "      <td>1</td>\n",
       "      <td>5</td>\n",
       "      <td>00:00</td>\n",
       "      <td>0.6</td>\n",
       "      <td>4.0</td>\n",
       "      <td>-17.6</td>\n",
       "      <td>-13.3</td>\n",
       "      <td>-19.6</td>\n",
       "    </tr>\n",
       "    <tr>\n",
       "      <th>4</th>\n",
       "      <td>2016</td>\n",
       "      <td>1</td>\n",
       "      <td>6</td>\n",
       "      <td>00:00</td>\n",
       "      <td>-1.0</td>\n",
       "      <td>4.0</td>\n",
       "      <td>-20.3</td>\n",
       "      <td>-16.4</td>\n",
       "      <td>-21.3</td>\n",
       "    </tr>\n",
       "  </tbody>\n",
       "</table>"
      ],
      "text/plain": [
       "<IPython.core.display.HTML object>"
      ]
     },
     "metadata": {},
     "output_type": "display_data"
    },
    {
     "data": {
      "text/plain": [
       "<Figure size 640x480 with 1 Axes>"
      ]
     },
     "metadata": {},
     "output_type": "display_data"
    },
    {
     "data": {
      "text/html": [
       "<table border=\"1\" class=\"dataframe\">\n",
       "  <thead>\n",
       "    <tr style=\"text-align: right;\">\n",
       "      <th></th>\n",
       "      <th>Year</th>\n",
       "      <th>m</th>\n",
       "      <th>d</th>\n",
       "      <th>Time</th>\n",
       "      <th>Prec</th>\n",
       "      <th>snow</th>\n",
       "      <th>tmp</th>\n",
       "      <th>maxtemp</th>\n",
       "      <th>mintmp</th>\n",
       "    </tr>\n",
       "  </thead>\n",
       "  <tbody>\n",
       "    <tr>\n",
       "      <th>0</th>\n",
       "      <td>2016</td>\n",
       "      <td>1</td>\n",
       "      <td>2</td>\n",
       "      <td>00:00</td>\n",
       "      <td>-1.0</td>\n",
       "      <td>-1.0</td>\n",
       "      <td>-7.0</td>\n",
       "      <td>-5.5</td>\n",
       "      <td>-7.8</td>\n",
       "    </tr>\n",
       "    <tr>\n",
       "      <th>1</th>\n",
       "      <td>2016</td>\n",
       "      <td>1</td>\n",
       "      <td>3</td>\n",
       "      <td>00:00</td>\n",
       "      <td>3.2</td>\n",
       "      <td>-1.0</td>\n",
       "      <td>-8.7</td>\n",
       "      <td>-7.2</td>\n",
       "      <td>-10.0</td>\n",
       "    </tr>\n",
       "    <tr>\n",
       "      <th>2</th>\n",
       "      <td>2016</td>\n",
       "      <td>1</td>\n",
       "      <td>4</td>\n",
       "      <td>00:00</td>\n",
       "      <td>-1.0</td>\n",
       "      <td>4.0</td>\n",
       "      <td>-11.2</td>\n",
       "      <td>NaN</td>\n",
       "      <td>-13.5</td>\n",
       "    </tr>\n",
       "    <tr>\n",
       "      <th>3</th>\n",
       "      <td>2016</td>\n",
       "      <td>1</td>\n",
       "      <td>5</td>\n",
       "      <td>00:00</td>\n",
       "      <td>0.6</td>\n",
       "      <td>4.0</td>\n",
       "      <td>-17.6</td>\n",
       "      <td>-13.3</td>\n",
       "      <td>-19.6</td>\n",
       "    </tr>\n",
       "    <tr>\n",
       "      <th>4</th>\n",
       "      <td>2016</td>\n",
       "      <td>1</td>\n",
       "      <td>6</td>\n",
       "      <td>00:00</td>\n",
       "      <td>-1.0</td>\n",
       "      <td>4.0</td>\n",
       "      <td>-20.3</td>\n",
       "      <td>-16.4</td>\n",
       "      <td>-21.3</td>\n",
       "    </tr>\n",
       "  </tbody>\n",
       "</table>"
      ],
      "text/plain": [
       "<IPython.core.display.HTML object>"
      ]
     },
     "metadata": {},
     "output_type": "display_data"
    }
   ],
   "source": [
    "import pandas as pd # import Pandas library (and defining shorthand \"pd\") for reading and manipulating the data files\n",
    "from matplotlib import pyplot as plt # import and define shorthand \"plt\" for library \"pyplot\" providing plotting functions\n",
    "from IPython.display import display, HTML\n",
    "import numpy as np   # import and define shorthand \"np\" for library \"numpy\" for advanced mathematical operations in python\n",
    "from pymc3 import  *\n",
    "import matplotlib.pyplot as plt\n",
    "from sklearn.cluster import KMeans\n",
    "cmpd = ['orangered','dodgerblue','springgreen']\n",
    "\n",
    "#read in data from csv files \n",
    "#parse_dates function is used on Date-column to change them from string to date-object\n",
    "\n",
    "data = pd.read_csv(\"https://raw.githubusercontent.com/alexjungaalto/PythonPlayground/master/WetterData.csv\",sep='\\t')\n",
    "data1 = pd.read_csv(\"https://raw.githubusercontent.com/alexjungaalto/PythonPlayground/master/WetterDataMissing.csv\",sep='\\t')\n",
    "\n",
    "## Show top rows of each file.\n",
    "\n",
    "display(HTML(data.head(5).to_html(max_rows=5)))\n",
    "\n",
    "features = data.mintmp.values; \n",
    "labels  = data.maxtemp.values; \n",
    "\n",
    "#features = data.R2.values; \n",
    "#labels = data.R4.values; \n",
    "plt.scatter(features,labels)\n",
    "plt.xlabel('feature x = mintmp', fontsize=18)\n",
    "plt.ylabel('label y = maxtmp', fontsize=18)\n",
    "\n",
    "#plt.annotate('$(x^{(i)},y^{(i)})$', xy=(features[0], labels[0]), xytext=(10, 56),\n",
    "#            arrowprops=dict(arrowstyle=\"->\",facecolor='black'),\n",
    "#            )\n",
    "\n",
    "plt.tick_params(labelsize=20)\n",
    "plt.scatter(features, labels,  color='blue')\n",
    "plt.show()\n",
    "\n",
    "feat = np.array([[-11, -10.5, -10,-9,-9.2,-8,-7,-6,-5,8,8.5,9,9.5,10,10.5,11,11.5]]).T  # shape (3, 1)\n",
    "lab = np.array([[-10,   -10,   -10,-10,-10,-10,-10,-10,-10,4,5,6,7,8,9,10,12]]).T  # shape (3, 1)\n",
    "\n",
    "plt.tick_params(labelsize=15)\n",
    "plt.xlabel('feature x', fontsize=18)\n",
    "plt.ylabel('label y', fontsize=18)\n",
    "plt.scatter(feat,lab, color='blue')\n",
    "X =np.column_stack((feat,lab))\n",
    "y_pred = KMeans(n_clusters=2).fit_predict(X)\n",
    "plt.scatter(X[:,0], X[:,1], s=20*(y_pred+1))\n",
    "#print(cmpd[y_pred])\n",
    "#data.dropna(inplace=True)\n",
    "display(HTML(data1.head(5).to_html(max_rows=5)))"
   ]
  },
  {
   "cell_type": "markdown",
   "metadata": {},
   "source": [
    "Read in statistics of countries from wikidata. "
   ]
  },
  {
   "cell_type": "code",
   "execution_count": 2,
   "metadata": {},
   "outputs": [
    {
     "data": {
      "image/png": "[encoded data removed]",
      "text/plain": [
       "<Figure size 432x288 with 1 Axes>"
      ]
     },
     "metadata": {},
     "output_type": "display_data"
    },
    {
     "name": "stdout",
     "output_type": "stream",
     "text": [
      "[2.58250131 0.33373076 0.13913503 1.31132002 0.49268128 0.06240446\n",
      " 0.25188489 0.53804046 0.32487197 0.52450957 0.52450957 0.0471683\n",
      " 1.93479794 0.41659567 0.20028828 0.21757108 0.82620028 2.62243396\n",
      " 3.67743913 0.02592108 0.03026445 0.21572553 0.09576903 0.04876966\n",
      " 0.1866906  0.05683152 0.05484918 0.02165179 0.01253775 0.61300326]\n"
     ]
    }
   ],
   "source": [
    "\n",
    "import requests\n",
    "import pandas as pd\n",
    "from collections import OrderedDict\n",
    "import matplotlib.pyplot as plt\n",
    "\n",
    "# E.g. read in key figures (gdp, average age, population, ...) of all countries.\n",
    "# only EU countries: ?country wdt:P463 wd:Q458\n",
    "#  UN countries Q1065\n",
    "\n",
    "url = 'https://query.wikidata.org/sparql'\n",
    "query = \"\"\"\n",
    "SELECT\n",
    "  ?countryLabel ?population ?area ?medianIncome ?age ?nominalGDP\n",
    "WHERE {\n",
    "  ?country wdt:P463 wd:Q458\n",
    "  OPTIONAL { ?country wdt:P1082 ?population }\n",
    "  OPTIONAL { ?country wdt:P2046 ?area }\n",
    "  OPTIONAL { ?country wdt:P3529 ?medianIncome }\n",
    "  OPTIONAL { ?country wdt:P571 ?inception.\n",
    "    BIND(year(now()) - year(?inception) AS ?age)\n",
    "  }\n",
    "  OPTIONAL { ?country wdt:P2131 ?nominalGDP}\n",
    "  SERVICE wikibase:label { bd:serviceParam wikibase:language \"en\". }\n",
    "}\n",
    "\"\"\"\n",
    "\n",
    "r = requests.get(url, params={'format': 'json', 'query': query})\n",
    "data = r.json()\n",
    "\n",
    "countries = []\n",
    "for item in data['results']['bindings']:\n",
    "    countries.append(OrderedDict({\n",
    "        'country': item['countryLabel']['value'],\n",
    "        'population': item['population']['value'],\n",
    "        'area': item['area']['value']\n",
    "            if 'area' in item else None,\n",
    "        'medianIncome': item['medianIncome']['value']\n",
    "            if 'medianIncome' in item else None,\n",
    "        'age': item['age']['value']\n",
    "            if 'age' in item else None,\n",
    "        'nominalGDP': item['nominalGDP']['value']\n",
    "            if 'nominalGDP' in item else None}))\n",
    "\n",
    "df=pd.DataFrame(countries)\n",
    "df.set_index('country', inplace=True)\n",
    "df=df.astype({'population': float, 'area': float, 'medianIncome': float, 'age': float, 'nominalGDP': float})\n",
    "\n",
    "\n",
    "df.fillna(df.mean(), inplace=True)\n",
    "features = df.population.values/1e8\n",
    "labels = df.nominalGDP.values/1e12\n",
    "#print(df)\n",
    "#print(labels)\n",
    "plt.xlabel('normalized population')\n",
    "plt.ylabel('normalized GDP')\n",
    "plt.scatter(features, labels,  color='blue')\n",
    "plt.show()\n",
    "print(labels)"
   ]
  },
  {
   "cell_type": "code",
   "execution_count": 4,
   "metadata": {
    "nbgrader": {
     "grade": true,
     "grade_id": "cell-4de426f9105b1b2d",
     "locked": true,
     "points": 1,
     "schema_version": 2,
     "solution": false
    }
   },
   "outputs": [
    {
     "data": {
      "text/plain": [
       "[<matplotlib.lines.Line2D at 0x1c1d2aeeb8>]"
      ]
     },
     "execution_count": 4,
     "metadata": {},
     "output_type": "execute_result"
    },
    {
     "data": {
      "image/png": "[encoded data removed]",
      "text/plain": [
       "<Figure size 432x288 with 1 Axes>"
      ]
     },
     "metadata": {},
     "output_type": "display_data"
    },
    {
     "data": {
      "image/png": "[encoded data removed]",
      "text/plain": [
       "<Figure size 432x288 with 1 Axes>"
      ]
     },
     "metadata": {},
     "output_type": "display_data"
    }
   ],
   "source": [
    "from sklearn.tree import DecisionTreeRegressor\n",
    "from sklearn import tree\n",
    "from sklearn.utils import shuffle\n",
    "import matplotlib.pyplot as plt\n",
    "import numpy as np\n",
    "from sklearn import datasets, linear_model\n",
    "from sklearn.metrics import mean_squared_error, r2_score\n",
    "\n",
    "# Split the data into training/testing sets\n",
    "X_train = features.reshape( -1, 1) \n",
    "X_test = features.reshape( -1, 1) \n",
    "# Split the targets into training/testing sets\n",
    "y_train = labels\n",
    "y_test = labels\n",
    "# Create linear regression object\n",
    "regr = linear_model.LinearRegression()\n",
    "# Train the model using the training sets\n",
    "regr.fit(X_train, y_train)\n",
    "# Make predictions using the testing set\n",
    "y_pred = regr.predict(X_test)\n",
    "\n",
    "# Split the targets into training/testing sets\n",
    "X_train = features.reshape( -1, 1) \n",
    "X_test = features.reshape( -1, 1) \n",
    "y_train = labels\n",
    "y_test = labels\n",
    "X_train, y_train = shuffle(X_train, y_train)\n",
    "X_train=X_train[:30,:]\n",
    "y_train=y_train[:30]\n",
    "\n",
    "# Create linear regression object\n",
    "regr = linear_model.LinearRegression()\n",
    "\n",
    "# Train the model using the training sets\n",
    "regr.fit(X_train, y_train)\n",
    "X_eval = np.linspace(min(features), max(features), 100, endpoint=True)[:, np.newaxis]\n",
    "\n",
    "# Make predictions using the testing set\n",
    "y_pred = regr.predict(X_eval)\n",
    "#X = X_train; \n",
    "#Y = y_train; \n",
    "clf = DecisionTreeRegressor(max_depth=100)\n",
    "clf.fit(X_train, y_train)\n",
    "\n",
    "y_pred_tree = clf.predict(X_eval)\n",
    "\n",
    "#plt.subplot(1, 2, 1)\n",
    "#plt.scatter(X_test, y_test,  color='black')\n",
    "plt.scatter(X_train, y_train,  color='red')\n",
    "plt.plot(X_eval, y_pred_tree, color='blue', linewidth=3)\n",
    "\n",
    "#plt.subplot(1, 2, 2)\n",
    "plt.figure()\n",
    "#plt.scatter(X_test, y_test,  color='black')\n",
    "plt.scatter(X_train, y_train,  color='red')\n",
    "plt.plot(X_eval, y_pred, color='blue', linewidth=3)\n",
    "\n"
   ]
  },
  {
   "cell_type": "code",
   "execution_count": 5,
   "metadata": {},
   "outputs": [
    {
     "data": {
      "text/plain": [
       "[<matplotlib.lines.Line2D at 0x1c1d3b8048>]"
      ]
     },
     "execution_count": 5,
     "metadata": {},
     "output_type": "execute_result"
    },
    {
     "data": {
      "image/png": "[encoded data removed]",
      "text/plain": [
       "<Figure size 432x288 with 1 Axes>"
      ]
     },
     "metadata": {},
     "output_type": "display_data"
    }
   ],
   "source": [
    "# search for an optimal value of K for KNN\n",
    "from sklearn.pipeline import make_pipeline\n",
    "from sklearn.preprocessing import PolynomialFeatures\n",
    "from sklearn.linear_model import Ridge\n",
    "from sklearn.model_selection import cross_val_score\n",
    "import numpy as np  \n",
    "\n",
    "\n",
    "d_range = np.linspace(0, 10000, num=50)\n",
    "d_scores = []\n",
    "\n",
    "X = features.reshape( -1, 1) \n",
    "y = labels\n",
    "\n",
    "#X=X[:100,:]\n",
    "#y=y[:100]\n",
    "\n",
    "for d in d_range:\n",
    "    poly = make_pipeline(PolynomialFeatures(4), Ridge(alpha=d))\n",
    "    scores = cross_val_score(poly, X, y, cv=10, scoring='neg_mean_squared_error')\n",
    "    d_scores.append(scores.mean())\n",
    "    \n",
    "plt.plot(d_range, d_scores)\n",
    "\n",
    "#print(d_scores)"
   ]
  },
  {
   "cell_type": "markdown",
   "metadata": {},
   "source": [
    "Illustrate overfitting in polynomial regression. "
   ]
  },
  {
   "cell_type": "code",
   "execution_count": 13,
   "metadata": {},
   "outputs": [
    {
     "data": {
      "image/png": "[encoded data removed]",
      "text/plain": [
       "<Figure size 432x288 with 1 Axes>"
      ]
     },
     "metadata": {},
     "output_type": "display_data"
    },
    {
     "data": {
      "text/plain": [
       "<Figure size 2880x720 with 0 Axes>"
      ]
     },
     "metadata": {},
     "output_type": "display_data"
    }
   ],
   "source": [
    "import numpy as np\n",
    "import matplotlib.pyplot as plt\n",
    "from sklearn.utils import shuffle\n",
    "from sklearn.linear_model import Ridge\n",
    "from sklearn.preprocessing import PolynomialFeatures\n",
    "from sklearn.pipeline import make_pipeline\n",
    "\n",
    "\n",
    "x = labels\n",
    "y = features\n",
    "\n",
    "X_train = features.reshape( -1, 1) \n",
    "X_test = features.reshape( -1, 1) \n",
    "y_train = labels\n",
    "y_test = labels\n",
    "\n",
    "samplesize=6\n",
    "\n",
    "X, y = shuffle(X_train, y_train)\n",
    "X=X[0:(2*samplesize):1,:]\n",
    "y=y[0:(2*samplesize):1]\n",
    "X_train=X[0:samplesize:1,:]\n",
    "y_train=y[0:samplesize:1]\n",
    "X_val=X[(samplesize):(2*samplesize):1,:]\n",
    "y_val=y[(samplesize):(2*samplesize):1]\n",
    "\n",
    "\n",
    "# create matrix versions of these arrays\n",
    "X = x[:, np.newaxis]\n",
    "#X_plot = x_plot[:, np.newaxis]\n",
    "\n",
    "min_train = min(X_train) \n",
    "min_val = min(X_val)\n",
    "\n",
    "max_train = max(X_train)\n",
    "max_val = max(X_val)\n",
    "\n",
    "X_eval = np.arange(min(min_train,min_val), max(max_train,max_val), 0.1)[:, np.newaxis]\n",
    "X_eval = np.linspace(min(min_train,min_val), max(max_train,max_val), 100, endpoint=True)[:, np.newaxis]\n",
    "\n",
    "colors = ['teal', 'yellowgreen', 'gold']\n",
    "lw = 2\n",
    "#plt.plot(x_plot, f(x_plot), color='cornflowerblue', linewidth=lw,\n",
    "#         label=\"ground truth\")\n",
    "plt.scatter(X_train, y_train, color='navy', s=30, marker='o', label=\"training data\")\n",
    "plt.scatter(X_val, y_val,  color='red', label=\"validation data\")\n",
    "for count, degree in enumerate([5]):\n",
    "    model = make_pipeline(PolynomialFeatures(degree), Ridge(alpha=0))\n",
    "    model.fit(X_train, y_train)\n",
    "    y_plot = model.predict(X_eval)\n",
    "    plt.plot(X_eval, y_plot, color=colors[count], linewidth=lw,label=\"degree %d\" % degree)\n",
    "\n",
    "    \n",
    "plt.legend(loc='lower right')\n",
    "\n",
    "plt.figure(figsize=(40,10))\n",
    "plt.show()\n",
    "#print(X)"
   ]
  },
  {
   "cell_type": "code",
   "execution_count": null,
   "metadata": {
    "nbgrader": {
     "grade": false,
     "grade_id": "cell-442d318e6198f794",
     "locked": false,
     "schema_version": 2,
     "solution": true
    }
   },
   "outputs": [],
   "source": [
    "%matplotlib inline\n",
    "import numpy as np\n",
    "import theano.tensor as tt\n",
    "import pymc3 as pm\n",
    "\n",
    "import seaborn as sns\n",
    "import matplotlib.pyplot as plt\n",
    "\n",
    "sns.set_context('notebook')\n",
    "plt.style.use('seaborn-darkgrid')\n",
    "print('Running on PyMC3 v{}'.format(pm.__version__))"
   ]
  },
  {
   "cell_type": "code",
   "execution_count": null,
   "metadata": {
    "nbgrader": {
     "grade": true,
     "grade_id": "cell-41fe85da9ef892e8",
     "locked": true,
     "points": 1,
     "schema_version": 2,
     "solution": false
    }
   },
   "outputs": [],
   "source": [
    "with pm.Model() as model:\n",
    "    mu = pm.Normal('mu', mu=0, sd=1)\n",
    "    obs = pm.Normal('obs', mu=mu, sd=1, observed=np.random.randn(100))"
   ]
  },
  {
   "cell_type": "code",
   "execution_count": null,
   "metadata": {},
   "outputs": [],
   "source": [
    "model.basic_RVs"
   ]
  },
  {
   "cell_type": "code",
   "execution_count": null,
   "metadata": {},
   "outputs": [],
   "source": [
    "\n",
    "with pm.Model() as model:\n",
    "    mu = pm.Normal('y', mu=0, sd=1)\n",
    "    obs = pm.Normal('x', mu=mu, sd=1, observed=np.random.randn(100))\n",
    "\n",
    "    step = pm.Metropolis()\n",
    "    trace = pm.sample(1000, step=step)"
   ]
  },
  {
   "cell_type": "code",
   "execution_count": null,
   "metadata": {},
   "outputs": [],
   "source": [
    "pm.traceplot(trace);"
   ]
  },
  {
   "cell_type": "code",
   "execution_count": null,
   "metadata": {},
   "outputs": [],
   "source": [
    "from keras.models import Sequential\n",
    "from keras.layers import Dense\n",
    "import numpy\n",
    "# fix random seed for reproducibility\n",
    "\n",
    "# load pima indians dataset\n",
    "#dataset = numpy.loadtxt(\"pima-indians-diabetes.csv\", delimiter=\",\")\n",
    "# split into input (X) and output (Y) variables\n",
    "\n",
    "X_train = features.reshape( -1, 1) \n",
    "y_train=labels.reshape(-1,1)\n",
    "\n",
    "X_train, y_train = shuffle(X_train, labels)\n",
    "X=X_train[:30,:]\n",
    "Y=y_train[:30]\n",
    "\n",
    "\n",
    "# create model\n",
    "\n",
    "#model = Sequential()\n",
    "#model.add(Dense(40, input_dim=1, init='uniform', activation='relu'))\n",
    "#model.add(Dense(40, init='uniform', activation='relu'))\n",
    "#model.add(Dense(1, init='uniform'))\n",
    "\n",
    "model = Sequential()\n",
    "model.add(Dense(1000, input_dim=1, kernel_initializer='normal', activation='relu'))\n",
    "model.add(Dense(1, kernel_initializer='normal'))\n",
    "    \n",
    "    \n",
    "# Compile model\n",
    "model.compile(loss='mean_squared_error', optimizer='adam', metrics=['accuracy'])\n",
    "# Fit the model\n",
    "model.fit(X, Y, epochs=200, batch_size=X.shape[0] ,  verbose=0)\n",
    "# calculate predictions\n",
    "predictions = model.predict(X_eval)\n",
    "plt.scatter(X, Y,  color='red')\n",
    "plt.plot(X_eval, predictions, color='blue', linewidth=3)"
   ]
  },
  {
   "cell_type": "code",
   "execution_count": null,
   "metadata": {},
   "outputs": [],
   "source": [
    "import numpy as np\n",
    "import matplotlib.pyplot as plt\n",
    "\n",
    "\n",
    "def modified_huber_loss(y_true, y_pred):\n",
    "    z = y_pred * y_true\n",
    "    loss = -4 * z\n",
    "    loss[z >= -1] = (1 - z[z >= -1]) ** 2\n",
    "    loss[z >= 1.] = 0\n",
    "    return loss\n",
    "\n",
    "\n",
    "xmin, xmax = -4, 4\n",
    "xx = np.linspace(xmin, xmax, 100)\n",
    "lw = 5\n",
    "plt.plot([xmin, 0, 0, xmax], [1, 1, 0, 0], color='gold', lw=lw,\n",
    "         label=\"Zero-one loss\")\n",
    "plt.rcParams.update({'font.size': 22})\n",
    "plt.plot(xx, np.where(xx < 1, 1 - xx, 0), color='teal', lw=lw,\n",
    "         label=\"Hinge loss\")\n",
    "plt.plot(xx, -np.minimum(xx, 0), color='yellowgreen', lw=lw,\n",
    "         label=\"Perceptron loss\")\n",
    "plt.plot(xx, np.log2(1 + np.exp(-xx)), color='cornflowerblue', lw=lw,\n",
    "         label=\"Log loss\")\n",
    "plt.plot(xx, np.where(xx < 1, 1 - xx, 0) ** 2, color='orange', lw=lw,\n",
    "         label=\"Squared hinge loss\")\n",
    "plt.plot(xx, modified_huber_loss(xx, 1), color='darkorchid', lw=lw,\n",
    "         linestyle='--', label=\"Modified Huber loss\")\n",
    "plt.ylim((0, 8))\n",
    "plt.legend(loc=\"upper right\")\n",
    "plt.xlabel(r\"$h(x)y$\")\n",
    "#plt.ylabel(\"$L(y=1, f(x))$\")\n",
    "plt.show()\n",
    "\n"
   ]
  },
  {
   "cell_type": "code",
   "execution_count": null,
   "metadata": {},
   "outputs": [],
   "source": [
    "plt.plot(xx, xx** 2, color='teal', lw=lw,\n",
    "         label=\"Hinge loss\")\n",
    "plt.xlabel(r\"$y - h(x)$\")"
   ]
  },
  {
   "cell_type": "code",
   "execution_count": null,
   "metadata": {},
   "outputs": [],
   "source": []
  }
 ],
 "metadata": {
  "celltoolbar": "Create Assignment",
  "kernelspec": {
   "display_name": "Python 3",
   "language": "python",
   "name": "python3"
  },
  "language_info": {
   "codemirror_mode": {
    "name": "ipython",
    "version": 3
   },
   "file_extension": ".py",
   "mimetype": "text/x-python",
   "name": "python",
   "nbconvert_exporter": "python",
   "pygments_lexer": "ipython3",
   "version": "3.6.5"
  }
 },
 "nbformat": 4,
 "nbformat_minor": 2
}
